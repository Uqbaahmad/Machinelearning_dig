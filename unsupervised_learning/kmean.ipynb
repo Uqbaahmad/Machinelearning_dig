{
 "cells": [
  {
   "cell_type": "code",
   "execution_count": 1,
   "metadata": {},
   "outputs": [],
   "source": [
    "import pandas as pd\n",
    "import numpy as np\n",
    "from seaborn import load_dataset\n",
    "import matplotlib.pyplot as plt\n",
    "\n",
    "from sklearn.decomposition import KernelPCA\n",
    "import plotly.express as px\n"
   ]
  },
  {
   "cell_type": "code",
   "execution_count": 2,
   "metadata": {},
   "outputs": [
    {
     "data": {
      "text/html": [
       "<div>\n",
       "<style scoped>\n",
       "    .dataframe tbody tr th:only-of-type {\n",
       "        vertical-align: middle;\n",
       "    }\n",
       "\n",
       "    .dataframe tbody tr th {\n",
       "        vertical-align: top;\n",
       "    }\n",
       "\n",
       "    .dataframe thead th {\n",
       "        text-align: right;\n",
       "    }\n",
       "</style>\n",
       "<table border=\"1\" class=\"dataframe\">\n",
       "  <thead>\n",
       "    <tr style=\"text-align: right;\">\n",
       "      <th></th>\n",
       "      <th>sepal_length</th>\n",
       "      <th>sepal_width</th>\n",
       "      <th>petal_length</th>\n",
       "      <th>petal_width</th>\n",
       "      <th>species</th>\n",
       "    </tr>\n",
       "  </thead>\n",
       "  <tbody>\n",
       "    <tr>\n",
       "      <th>0</th>\n",
       "      <td>5.1</td>\n",
       "      <td>3.5</td>\n",
       "      <td>1.4</td>\n",
       "      <td>0.2</td>\n",
       "      <td>setosa</td>\n",
       "    </tr>\n",
       "    <tr>\n",
       "      <th>1</th>\n",
       "      <td>4.9</td>\n",
       "      <td>3.0</td>\n",
       "      <td>1.4</td>\n",
       "      <td>0.2</td>\n",
       "      <td>setosa</td>\n",
       "    </tr>\n",
       "    <tr>\n",
       "      <th>2</th>\n",
       "      <td>4.7</td>\n",
       "      <td>3.2</td>\n",
       "      <td>1.3</td>\n",
       "      <td>0.2</td>\n",
       "      <td>setosa</td>\n",
       "    </tr>\n",
       "    <tr>\n",
       "      <th>3</th>\n",
       "      <td>4.6</td>\n",
       "      <td>3.1</td>\n",
       "      <td>1.5</td>\n",
       "      <td>0.2</td>\n",
       "      <td>setosa</td>\n",
       "    </tr>\n",
       "    <tr>\n",
       "      <th>4</th>\n",
       "      <td>5.0</td>\n",
       "      <td>3.6</td>\n",
       "      <td>1.4</td>\n",
       "      <td>0.2</td>\n",
       "      <td>setosa</td>\n",
       "    </tr>\n",
       "  </tbody>\n",
       "</table>\n",
       "</div>"
      ],
      "text/plain": [
       "   sepal_length  sepal_width  petal_length  petal_width species\n",
       "0           5.1          3.5           1.4          0.2  setosa\n",
       "1           4.9          3.0           1.4          0.2  setosa\n",
       "2           4.7          3.2           1.3          0.2  setosa\n",
       "3           4.6          3.1           1.5          0.2  setosa\n",
       "4           5.0          3.6           1.4          0.2  setosa"
      ]
     },
     "execution_count": 2,
     "metadata": {},
     "output_type": "execute_result"
    }
   ],
   "source": [
    "df =load_dataset('iris')\n",
    "df.head()"
   ]
  },
  {
   "cell_type": "code",
   "execution_count": 3,
   "metadata": {},
   "outputs": [
    {
     "data": {
      "application/vnd.plotly.v1+json": {
       "config": {
        "plotlyServerURL": "https://plot.ly"
       },
       "data": [
        {
         "hovertemplate": "x=%{x}<br>y=%{y}<br>z=%{z}<extra></extra>",
         "legendgroup": "",
         "marker": {
          "color": "#636efa",
          "symbol": "circle"
         },
         "mode": "markers",
         "name": "",
         "scene": "scene",
         "showlegend": false,
         "type": "scatter3d",
         "x": [
          -2.6841256259695334,
          -2.714141687294333,
          -2.8889905690592945,
          -2.7453428556414083,
          -2.7287165365545283,
          -2.2808596328444892,
          -2.8205377507406078,
          -2.6261449731466313,
          -2.8863827317805506,
          -2.672755797820952,
          -2.5069470906518547,
          -2.6127552309087227,
          -2.7861092661880167,
          -3.2238037438656497,
          -2.644750389942026,
          -2.38603903353113,
          -2.6235278752244233,
          -2.6482967062543796,
          -2.1998203236175806,
          -2.5879863998787678,
          -2.310256215242517,
          -2.543705228757155,
          -3.215939415648611,
          -2.302733182226206,
          -2.355754049123772,
          -2.506668906925822,
          -2.468820073121338,
          -2.5623199061960147,
          -2.639534715384544,
          -2.6319893872743467,
          -2.5873984766893523,
          -2.4099324970021714,
          -2.6488623343499103,
          -2.5987367491005835,
          -2.636926878105795,
          -2.8662416521186698,
          -2.6252380498503722,
          -2.800684115448218,
          -2.980502043781992,
          -2.5900063139680936,
          -2.7701024260278957,
          -2.8493687050431036,
          -2.9974065465949074,
          -2.405614485097488,
          -2.2094892377836772,
          -2.7144514267577065,
          -2.5381482589989433,
          -2.8394621676428526,
          -2.543085749830388,
          -2.703359782335155,
          1.2848256888583498,
          0.9324885323123148,
          1.4643023219914018,
          0.1833177199583768,
          1.0881032577116625,
          0.6416690842580738,
          1.0950606626324515,
          -0.7491226698296571,
          1.0441318260534345,
          -0.008745404082892105,
          -0.5078408838353232,
          0.5116985574475941,
          0.2649765081120452,
          0.9849345104708916,
          -0.17392537168177025,
          0.9278607809442458,
          0.6602837616969361,
          0.23610499331767523,
          0.9447337280198101,
          0.04522697629870171,
          1.1162831773500568,
          0.35788841799730475,
          1.2981838753589214,
          0.9217289224470454,
          0.714853325911408,
          0.9001743731721658,
          1.3320244367220915,
          1.5578021550660714,
          0.8132906498175385,
          -0.3055837780243055,
          -0.06812649206836134,
          -0.18962247237850566,
          0.13642871155801375,
          1.3800264359155232,
          0.5880064433398671,
          0.8068583125004167,
          1.2206908824443503,
          0.8150952357666018,
          0.24595767988669018,
          0.16641321714545754,
          0.46480028840378,
          0.8908151984694432,
          0.23054802355945667,
          -0.704531759244666,
          0.3569814947010461,
          0.3319344799450529,
          0.37621565106667454,
          0.6425760075543447,
          -0.906469864948833,
          0.2990008418781437,
          2.531192727803634,
          1.4152358767039028,
          2.6166760159956866,
          1.9715310530434371,
          2.3500059200446466,
          3.397038736053255,
          0.521232243909776,
          2.932587068993688,
          2.3212288165733774,
          2.9167509667860743,
          1.6617741536365371,
          1.8034019529650962,
          2.165591796080148,
          1.3461635794584528,
          1.5859282238732155,
          1.9044563747934287,
          1.949689059399074,
          3.487055364290279,
          3.795645422072892,
          1.3007917126376611,
          2.4278179130660504,
          1.199001105465561,
          3.499920038924538,
          1.3887661316914668,
          2.2754305038722036,
          2.614090473810832,
          1.258508160511486,
          1.291132059115023,
          2.123608722773897,
          2.3880030160034664,
          2.8416727781038738,
          3.2306736614320934,
          2.1594376424890513,
          1.444161242329511,
          1.7812948100451114,
          3.0764999316871893,
          2.1442433143020825,
          1.9050981488140775,
          1.1693263393415023,
          2.1076111432572433,
          2.314154705235601,
          1.9222678009026024,
          1.4152358767039033,
          2.563013375077478,
          2.418746182732826,
          1.9441097945469696,
          1.5271666148145189,
          1.7643457170444299,
          1.900941614218425,
          1.390188861947915
         ],
         "y": [
          0.31939724658510266,
          -0.1770012250647813,
          -0.1449494260855556,
          -0.31829897925191614,
          0.3267545129349206,
          0.7413304490629155,
          -0.08946138452856627,
          0.1633849596983302,
          -0.5783117541867021,
          -0.11377424587411576,
          0.6450688986485751,
          0.01472993916137612,
          -0.2351120002017162,
          -0.5113945870063812,
          1.1787646364375768,
          1.338062330400653,
          0.8106795141812613,
          0.3118491445933572,
          0.8728390389622156,
          0.5135603087492788,
          0.3913459356538976,
          0.43299606327903095,
          0.13346806953852963,
          0.09870885481410348,
          -0.0372818596773783,
          -0.14601688049526346,
          0.13095148943525298,
          0.3677188574342037,
          0.31203998023528917,
          -0.19696122492431023,
          -0.20431849127412727,
          0.4109242642295738,
          0.8133638202969633,
          1.0931457594493583,
          -0.12132234786586435,
          0.06936447158008614,
          0.5993700213794294,
          0.2686437377979784,
          -0.4879583444286104,
          0.22904383682701304,
          0.2635275337442538,
          -0.9409605736411893,
          -0.34192605747160476,
          0.18887142893026843,
          0.436663141639192,
          -0.2502082041852052,
          0.503771144461448,
          -0.22794556949382178,
          0.5794100215198899,
          0.10770608249941302,
          0.6851604704673162,
          0.31833363826264033,
          0.5042628153091983,
          -0.8279590118206358,
          0.07459067519772748,
          -0.4182468715686689,
          0.28346827006152747,
          -1.00489096118189,
          0.22836189978840196,
          -0.7230819050048358,
          -1.2659711905263928,
          -0.10398123549903196,
          -0.5500364636804679,
          -0.12481785412635481,
          -0.25485420870258335,
          0.4671794944415166,
          -0.35296966572384636,
          -0.33361076682491575,
          -0.5431455507797593,
          -0.5838343774718602,
          -0.08461685219478837,
          -0.06892503165600851,
          -0.327787308333917,
          -0.1827377936213691,
          0.1490559443697919,
          0.3285044738343271,
          0.2444408760163452,
          0.2674954473102575,
          -0.16335030068760803,
          -0.36826218975458697,
          -0.7051721317994624,
          -0.6802867635281272,
          -0.3140324382492323,
          -0.4209542873138844,
          -0.4842874199812171,
          0.19418231471315345,
          0.4076195936110112,
          -0.3720370599095001,
          -0.2685243966220124,
          -0.6819267248636242,
          -0.6707115445117177,
          -0.03446444436826547,
          -0.404385848007322,
          -1.0122482275317106,
          -0.504910093337107,
          -0.21265468378116845,
          -0.29321892925141557,
          0.01773819011242109,
          -0.7560933665990104,
          -0.3488978064503329,
          -0.009849109498798712,
          -0.5749163475464872,
          0.34390315134173366,
          -0.17972790435224378,
          -0.04026094714252506,
          0.5508366730280564,
          -1.192758727000643,
          0.35550000297749756,
          -0.24383150231069026,
          0.782791948815281,
          0.24222840775507232,
          -0.21563761733355072,
          0.21627558507402841,
          -0.7768183473443382,
          -0.5396407140267225,
          0.11925069209197693,
          0.04194325966321657,
          1.1757393297134298,
          0.25732297342048627,
          -0.761149636435058,
          0.37819601261705343,
          -0.6060915277579302,
          0.46067409891189603,
          -0.20439932735214833,
          0.3349906058216766,
          0.5609013551230794,
          -0.1797047947227487,
          -0.11666865117400872,
          -0.2097294766773019,
          0.46463980470873567,
          0.37526916719510794,
          1.3741650867930495,
          -0.21727757866904915,
          -0.14341341045757894,
          -0.4999016810781354,
          0.6880856775711791,
          0.1400642010897916,
          0.04930052601303172,
          -0.1649902620231047,
          0.37228787196080004,
          0.18365127916902013,
          0.40920346681606584,
          -0.5749163475464872,
          0.2778626029291969,
          0.3047981978546927,
          0.18753230280060842,
          -0.3753169825804853,
          0.07885885451847796,
          0.11662795851202565,
          -0.2826609379905496
         ],
         "z": [
          -0.027914827589414336,
          -0.21046427237823565,
          0.017900256320891213,
          0.0315593736056803,
          0.09007924055120407,
          0.16867765820910224,
          0.25789215825561845,
          -0.021879317886717008,
          0.020759570264780883,
          -0.197632724988149,
          -0.0753180093791204,
          0.10215025995659001,
          -0.20684443044964368,
          0.06129967245709648,
          -0.15162752361780718,
          0.277776902703136,
          0.13818322788071988,
          0.026668315612593523,
          -0.12030552339472866,
          0.21366517222471482,
          -0.2394440432449522,
          0.2084572324167157,
          0.29239675074524424,
          0.03912325874288187,
          0.12502108270287762,
          -0.25342004234465676,
          0.09491057609939282,
          -0.07849420513792185,
          -0.14590889573002597,
          0.04077107906717946,
          -0.07722298907343648,
          -0.1455249720051295,
          0.22566914972012,
          0.15781081295822258,
          -0.14304958178614358,
          -0.16433230665302226,
          -0.2683503756939341,
          0.09369908247980228,
          0.07292704569269443,
          -0.08008230301732568,
          0.07724769316110568,
          -0.3492303773059632,
          0.1925092117127082,
          0.2638679455134158,
          0.2987427457551068,
          -0.0976781440456286,
          0.16670563660480486,
          0.08372684903359481,
          -0.017115024248513765,
          -0.08929400847882386,
          -0.4065680254676932,
          -0.018014186646239654,
          -0.33832576498090006,
          -0.1795913918753556,
          -0.30775789623478744,
          0.04107609082395693,
          0.16981023986057472,
          0.012302919237592315,
          -0.41533608475939576,
          0.2811414311764097,
          -0.26981718276885325,
          0.13054775024048346,
          -0.6941468301444205,
          -0.06211440832225882,
          0.0904576907257015,
          -0.31462097583216975,
          0.32802752837859056,
          -0.2711618372510644,
          -0.4995190464851157,
          -0.2350021049720579,
          0.459620991359107,
          -0.22985388760895054,
          -0.34785435225730243,
          -0.23107177773627657,
          -0.3218009372444774,
          -0.3162090737115741,
          -0.5217027796644086,
          -0.16492098374357828,
          0.03542450484615264,
          -0.3184915806230382,
          -0.24421381043355606,
          -0.30642056121766814,
          -0.1772427660112508,
          0.01616712752075268,
          0.44443349863980897,
          0.38896306309821876,
          -0.23716700988388315,
          -0.6147208425918158,
          0.18836681164618835,
          -0.06000922585533552,
          -0.02430685571895615,
          -0.00994693289436057,
          -0.2294102414391548,
          -0.10569114890302829,
          0.01661717019825964,
          0.08320429089565555,
          0.07799635108768421,
          -0.20539496698324136,
          -0.012599647557885448,
          0.010581660495573375,
          0.7601654272459041,
          0.2963225273879642,
          -0.11078788321911488,
          0.10842466246342429,
          0.28538956318445385,
          -0.34843755579747204,
          0.5456592956468138,
          -0.42023993576796587,
          -0.34830439493484633,
          0.4233354176825609,
          0.2424401897257852,
          -0.037648168231466515,
          0.03332664184433751,
          0.2819028821184697,
          0.6290293264079984,
          0.479639819626594,
          0.04418616763013037,
          0.13389487393609242,
          -0.5137677638177927,
          -0.34499503831341405,
          0.21911932430194883,
          0.5118555086969951,
          -0.5731822425680031,
          -0.06452275663126977,
          0.286150091169142,
          -0.2055345243536302,
          0.045847703927240614,
          0.2312564626599725,
          0.15418002392883182,
          -0.44953019194185534,
          -0.49889807587075813,
          -0.11454820547542201,
          0.20876316713082985,
          -0.1532338880630927,
          -0.1728751891134256,
          -0.3355922924345402,
          0.7348789367255067,
          0.16218023577073773,
          0.28183584020848795,
          0.0272911321416308,
          0.322693747173048,
          0.11358659579935693,
          0.29632252738796205,
          0.2925695245967448,
          0.5044826639771735,
          0.177825090632656,
          -0.12189817186717736,
          0.13048163128784177,
          0.7232515634899139,
          0.3629096480853684
         ]
        }
       ],
       "layout": {
        "legend": {
         "tracegroupgap": 0
        },
        "margin": {
         "t": 60
        },
        "scene": {
         "domain": {
          "x": [
           0,
           1
          ],
          "y": [
           0,
           1
          ]
         },
         "xaxis": {
          "title": {
           "text": "x"
          }
         },
         "yaxis": {
          "title": {
           "text": "y"
          }
         },
         "zaxis": {
          "title": {
           "text": "z"
          }
         }
        },
        "template": {
         "data": {
          "bar": [
           {
            "error_x": {
             "color": "#2a3f5f"
            },
            "error_y": {
             "color": "#2a3f5f"
            },
            "marker": {
             "line": {
              "color": "#E5ECF6",
              "width": 0.5
             },
             "pattern": {
              "fillmode": "overlay",
              "size": 10,
              "solidity": 0.2
             }
            },
            "type": "bar"
           }
          ],
          "barpolar": [
           {
            "marker": {
             "line": {
              "color": "#E5ECF6",
              "width": 0.5
             },
             "pattern": {
              "fillmode": "overlay",
              "size": 10,
              "solidity": 0.2
             }
            },
            "type": "barpolar"
           }
          ],
          "carpet": [
           {
            "aaxis": {
             "endlinecolor": "#2a3f5f",
             "gridcolor": "white",
             "linecolor": "white",
             "minorgridcolor": "white",
             "startlinecolor": "#2a3f5f"
            },
            "baxis": {
             "endlinecolor": "#2a3f5f",
             "gridcolor": "white",
             "linecolor": "white",
             "minorgridcolor": "white",
             "startlinecolor": "#2a3f5f"
            },
            "type": "carpet"
           }
          ],
          "choropleth": [
           {
            "colorbar": {
             "outlinewidth": 0,
             "ticks": ""
            },
            "type": "choropleth"
           }
          ],
          "contour": [
           {
            "colorbar": {
             "outlinewidth": 0,
             "ticks": ""
            },
            "colorscale": [
             [
              0,
              "#0d0887"
             ],
             [
              0.1111111111111111,
              "#46039f"
             ],
             [
              0.2222222222222222,
              "#7201a8"
             ],
             [
              0.3333333333333333,
              "#9c179e"
             ],
             [
              0.4444444444444444,
              "#bd3786"
             ],
             [
              0.5555555555555556,
              "#d8576b"
             ],
             [
              0.6666666666666666,
              "#ed7953"
             ],
             [
              0.7777777777777778,
              "#fb9f3a"
             ],
             [
              0.8888888888888888,
              "#fdca26"
             ],
             [
              1,
              "#f0f921"
             ]
            ],
            "type": "contour"
           }
          ],
          "contourcarpet": [
           {
            "colorbar": {
             "outlinewidth": 0,
             "ticks": ""
            },
            "type": "contourcarpet"
           }
          ],
          "heatmap": [
           {
            "colorbar": {
             "outlinewidth": 0,
             "ticks": ""
            },
            "colorscale": [
             [
              0,
              "#0d0887"
             ],
             [
              0.1111111111111111,
              "#46039f"
             ],
             [
              0.2222222222222222,
              "#7201a8"
             ],
             [
              0.3333333333333333,
              "#9c179e"
             ],
             [
              0.4444444444444444,
              "#bd3786"
             ],
             [
              0.5555555555555556,
              "#d8576b"
             ],
             [
              0.6666666666666666,
              "#ed7953"
             ],
             [
              0.7777777777777778,
              "#fb9f3a"
             ],
             [
              0.8888888888888888,
              "#fdca26"
             ],
             [
              1,
              "#f0f921"
             ]
            ],
            "type": "heatmap"
           }
          ],
          "heatmapgl": [
           {
            "colorbar": {
             "outlinewidth": 0,
             "ticks": ""
            },
            "colorscale": [
             [
              0,
              "#0d0887"
             ],
             [
              0.1111111111111111,
              "#46039f"
             ],
             [
              0.2222222222222222,
              "#7201a8"
             ],
             [
              0.3333333333333333,
              "#9c179e"
             ],
             [
              0.4444444444444444,
              "#bd3786"
             ],
             [
              0.5555555555555556,
              "#d8576b"
             ],
             [
              0.6666666666666666,
              "#ed7953"
             ],
             [
              0.7777777777777778,
              "#fb9f3a"
             ],
             [
              0.8888888888888888,
              "#fdca26"
             ],
             [
              1,
              "#f0f921"
             ]
            ],
            "type": "heatmapgl"
           }
          ],
          "histogram": [
           {
            "marker": {
             "pattern": {
              "fillmode": "overlay",
              "size": 10,
              "solidity": 0.2
             }
            },
            "type": "histogram"
           }
          ],
          "histogram2d": [
           {
            "colorbar": {
             "outlinewidth": 0,
             "ticks": ""
            },
            "colorscale": [
             [
              0,
              "#0d0887"
             ],
             [
              0.1111111111111111,
              "#46039f"
             ],
             [
              0.2222222222222222,
              "#7201a8"
             ],
             [
              0.3333333333333333,
              "#9c179e"
             ],
             [
              0.4444444444444444,
              "#bd3786"
             ],
             [
              0.5555555555555556,
              "#d8576b"
             ],
             [
              0.6666666666666666,
              "#ed7953"
             ],
             [
              0.7777777777777778,
              "#fb9f3a"
             ],
             [
              0.8888888888888888,
              "#fdca26"
             ],
             [
              1,
              "#f0f921"
             ]
            ],
            "type": "histogram2d"
           }
          ],
          "histogram2dcontour": [
           {
            "colorbar": {
             "outlinewidth": 0,
             "ticks": ""
            },
            "colorscale": [
             [
              0,
              "#0d0887"
             ],
             [
              0.1111111111111111,
              "#46039f"
             ],
             [
              0.2222222222222222,
              "#7201a8"
             ],
             [
              0.3333333333333333,
              "#9c179e"
             ],
             [
              0.4444444444444444,
              "#bd3786"
             ],
             [
              0.5555555555555556,
              "#d8576b"
             ],
             [
              0.6666666666666666,
              "#ed7953"
             ],
             [
              0.7777777777777778,
              "#fb9f3a"
             ],
             [
              0.8888888888888888,
              "#fdca26"
             ],
             [
              1,
              "#f0f921"
             ]
            ],
            "type": "histogram2dcontour"
           }
          ],
          "mesh3d": [
           {
            "colorbar": {
             "outlinewidth": 0,
             "ticks": ""
            },
            "type": "mesh3d"
           }
          ],
          "parcoords": [
           {
            "line": {
             "colorbar": {
              "outlinewidth": 0,
              "ticks": ""
             }
            },
            "type": "parcoords"
           }
          ],
          "pie": [
           {
            "automargin": true,
            "type": "pie"
           }
          ],
          "scatter": [
           {
            "fillpattern": {
             "fillmode": "overlay",
             "size": 10,
             "solidity": 0.2
            },
            "type": "scatter"
           }
          ],
          "scatter3d": [
           {
            "line": {
             "colorbar": {
              "outlinewidth": 0,
              "ticks": ""
             }
            },
            "marker": {
             "colorbar": {
              "outlinewidth": 0,
              "ticks": ""
             }
            },
            "type": "scatter3d"
           }
          ],
          "scattercarpet": [
           {
            "marker": {
             "colorbar": {
              "outlinewidth": 0,
              "ticks": ""
             }
            },
            "type": "scattercarpet"
           }
          ],
          "scattergeo": [
           {
            "marker": {
             "colorbar": {
              "outlinewidth": 0,
              "ticks": ""
             }
            },
            "type": "scattergeo"
           }
          ],
          "scattergl": [
           {
            "marker": {
             "colorbar": {
              "outlinewidth": 0,
              "ticks": ""
             }
            },
            "type": "scattergl"
           }
          ],
          "scattermapbox": [
           {
            "marker": {
             "colorbar": {
              "outlinewidth": 0,
              "ticks": ""
             }
            },
            "type": "scattermapbox"
           }
          ],
          "scatterpolar": [
           {
            "marker": {
             "colorbar": {
              "outlinewidth": 0,
              "ticks": ""
             }
            },
            "type": "scatterpolar"
           }
          ],
          "scatterpolargl": [
           {
            "marker": {
             "colorbar": {
              "outlinewidth": 0,
              "ticks": ""
             }
            },
            "type": "scatterpolargl"
           }
          ],
          "scatterternary": [
           {
            "marker": {
             "colorbar": {
              "outlinewidth": 0,
              "ticks": ""
             }
            },
            "type": "scatterternary"
           }
          ],
          "surface": [
           {
            "colorbar": {
             "outlinewidth": 0,
             "ticks": ""
            },
            "colorscale": [
             [
              0,
              "#0d0887"
             ],
             [
              0.1111111111111111,
              "#46039f"
             ],
             [
              0.2222222222222222,
              "#7201a8"
             ],
             [
              0.3333333333333333,
              "#9c179e"
             ],
             [
              0.4444444444444444,
              "#bd3786"
             ],
             [
              0.5555555555555556,
              "#d8576b"
             ],
             [
              0.6666666666666666,
              "#ed7953"
             ],
             [
              0.7777777777777778,
              "#fb9f3a"
             ],
             [
              0.8888888888888888,
              "#fdca26"
             ],
             [
              1,
              "#f0f921"
             ]
            ],
            "type": "surface"
           }
          ],
          "table": [
           {
            "cells": {
             "fill": {
              "color": "#EBF0F8"
             },
             "line": {
              "color": "white"
             }
            },
            "header": {
             "fill": {
              "color": "#C8D4E3"
             },
             "line": {
              "color": "white"
             }
            },
            "type": "table"
           }
          ]
         },
         "layout": {
          "annotationdefaults": {
           "arrowcolor": "#2a3f5f",
           "arrowhead": 0,
           "arrowwidth": 1
          },
          "autotypenumbers": "strict",
          "coloraxis": {
           "colorbar": {
            "outlinewidth": 0,
            "ticks": ""
           }
          },
          "colorscale": {
           "diverging": [
            [
             0,
             "#8e0152"
            ],
            [
             0.1,
             "#c51b7d"
            ],
            [
             0.2,
             "#de77ae"
            ],
            [
             0.3,
             "#f1b6da"
            ],
            [
             0.4,
             "#fde0ef"
            ],
            [
             0.5,
             "#f7f7f7"
            ],
            [
             0.6,
             "#e6f5d0"
            ],
            [
             0.7,
             "#b8e186"
            ],
            [
             0.8,
             "#7fbc41"
            ],
            [
             0.9,
             "#4d9221"
            ],
            [
             1,
             "#276419"
            ]
           ],
           "sequential": [
            [
             0,
             "#0d0887"
            ],
            [
             0.1111111111111111,
             "#46039f"
            ],
            [
             0.2222222222222222,
             "#7201a8"
            ],
            [
             0.3333333333333333,
             "#9c179e"
            ],
            [
             0.4444444444444444,
             "#bd3786"
            ],
            [
             0.5555555555555556,
             "#d8576b"
            ],
            [
             0.6666666666666666,
             "#ed7953"
            ],
            [
             0.7777777777777778,
             "#fb9f3a"
            ],
            [
             0.8888888888888888,
             "#fdca26"
            ],
            [
             1,
             "#f0f921"
            ]
           ],
           "sequentialminus": [
            [
             0,
             "#0d0887"
            ],
            [
             0.1111111111111111,
             "#46039f"
            ],
            [
             0.2222222222222222,
             "#7201a8"
            ],
            [
             0.3333333333333333,
             "#9c179e"
            ],
            [
             0.4444444444444444,
             "#bd3786"
            ],
            [
             0.5555555555555556,
             "#d8576b"
            ],
            [
             0.6666666666666666,
             "#ed7953"
            ],
            [
             0.7777777777777778,
             "#fb9f3a"
            ],
            [
             0.8888888888888888,
             "#fdca26"
            ],
            [
             1,
             "#f0f921"
            ]
           ]
          },
          "colorway": [
           "#636efa",
           "#EF553B",
           "#00cc96",
           "#ab63fa",
           "#FFA15A",
           "#19d3f3",
           "#FF6692",
           "#B6E880",
           "#FF97FF",
           "#FECB52"
          ],
          "font": {
           "color": "#2a3f5f"
          },
          "geo": {
           "bgcolor": "white",
           "lakecolor": "white",
           "landcolor": "#E5ECF6",
           "showlakes": true,
           "showland": true,
           "subunitcolor": "white"
          },
          "hoverlabel": {
           "align": "left"
          },
          "hovermode": "closest",
          "mapbox": {
           "style": "light"
          },
          "paper_bgcolor": "white",
          "plot_bgcolor": "#E5ECF6",
          "polar": {
           "angularaxis": {
            "gridcolor": "white",
            "linecolor": "white",
            "ticks": ""
           },
           "bgcolor": "#E5ECF6",
           "radialaxis": {
            "gridcolor": "white",
            "linecolor": "white",
            "ticks": ""
           }
          },
          "scene": {
           "xaxis": {
            "backgroundcolor": "#E5ECF6",
            "gridcolor": "white",
            "gridwidth": 2,
            "linecolor": "white",
            "showbackground": true,
            "ticks": "",
            "zerolinecolor": "white"
           },
           "yaxis": {
            "backgroundcolor": "#E5ECF6",
            "gridcolor": "white",
            "gridwidth": 2,
            "linecolor": "white",
            "showbackground": true,
            "ticks": "",
            "zerolinecolor": "white"
           },
           "zaxis": {
            "backgroundcolor": "#E5ECF6",
            "gridcolor": "white",
            "gridwidth": 2,
            "linecolor": "white",
            "showbackground": true,
            "ticks": "",
            "zerolinecolor": "white"
           }
          },
          "shapedefaults": {
           "line": {
            "color": "#2a3f5f"
           }
          },
          "ternary": {
           "aaxis": {
            "gridcolor": "white",
            "linecolor": "white",
            "ticks": ""
           },
           "baxis": {
            "gridcolor": "white",
            "linecolor": "white",
            "ticks": ""
           },
           "bgcolor": "#E5ECF6",
           "caxis": {
            "gridcolor": "white",
            "linecolor": "white",
            "ticks": ""
           }
          },
          "title": {
           "x": 0.05
          },
          "xaxis": {
           "automargin": true,
           "gridcolor": "white",
           "linecolor": "white",
           "ticks": "",
           "title": {
            "standoff": 15
           },
           "zerolinecolor": "white",
           "zerolinewidth": 2
          },
          "yaxis": {
           "automargin": true,
           "gridcolor": "white",
           "linecolor": "white",
           "ticks": "",
           "title": {
            "standoff": 15
           },
           "zerolinecolor": "white",
           "zerolinewidth": 2
          }
         }
        }
       }
      }
     },
     "metadata": {},
     "output_type": "display_data"
    }
   ],
   "source": [
    "X = df.drop(columns='species')\n",
    "features = KernelPCA(n_components=3).fit_transform(X)\n",
    "px.scatter_3d(x=features[:,0],y = features[:,1], z =features[:,2])"
   ]
  },
  {
   "cell_type": "code",
   "execution_count": 4,
   "metadata": {},
   "outputs": [],
   "source": [
    "from sklearn.cluster import KMeans "
   ]
  },
  {
   "cell_type": "code",
   "execution_count": 5,
   "metadata": {},
   "outputs": [],
   "source": [
    "wcss = []\n",
    "for k  in range(1, 11):\n",
    "    model = KMeans(n_clusters=k)\n",
    "    model.fit(features)\n",
    "    wcss.append({\n",
    "        'k':k,\n",
    "        'wcss':model.inertia_\n",
    "    })"
   ]
  },
  {
   "cell_type": "code",
   "execution_count": 6,
   "metadata": {},
   "outputs": [
    {
     "data": {
      "image/png": "[encoded data removed]",
      "text/plain": [
       "<Figure size 1080x504 with 1 Axes>"
      ]
     },
     "metadata": {
      "needs_background": "light"
     },
     "output_type": "display_data"
    }
   ],
   "source": [
    "pd.DataFrame(wcss).plot(kind='line', x='k', y ='wcss',\n",
    "                                    linewidth=2, markersize=10, style='ro--', figsize=(15, 7))\n",
    "plt.show()"
   ]
  },
  {
   "cell_type": "code",
   "execution_count": 7,
   "metadata": {},
   "outputs": [
    {
     "data": {
      "application/vnd.plotly.v1+json": {
       "config": {
        "plotlyServerURL": "https://plot.ly"
       },
       "data": [
        {
         "hovertemplate": "symbol=1<br>x=%{x}<br>y=%{y}<br>z=%{z}<br>color=%{marker.color}<extra></extra>",
         "legendgroup": "1",
         "marker": {
          "color": [
           1,
           1,
           1,
           1,
           1,
           1,
           1,
           1,
           1,
           1,
           1,
           1,
           1,
           1,
           1,
           1,
           1,
           1,
           1,
           1,
           1,
           1,
           1,
           1,
           1,
           1,
           1,
           1,
           1,
           1,
           1,
           1,
           1,
           1,
           1,
           1,
           1,
           1,
           1,
           1,
           1,
           1,
           1,
           1,
           1,
           1,
           1,
           1,
           1,
           1
          ],
          "coloraxis": "coloraxis",
          "symbol": "circle"
         },
         "mode": "markers",
         "name": "1",
         "scene": "scene",
         "showlegend": true,
         "type": "scatter3d",
         "x": [
          -2.6841256259695334,
          -2.714141687294333,
          -2.8889905690592945,
          -2.7453428556414083,
          -2.7287165365545283,
          -2.2808596328444892,
          -2.8205377507406078,
          -2.6261449731466313,
          -2.8863827317805506,
          -2.672755797820952,
          -2.5069470906518547,
          -2.6127552309087227,
          -2.7861092661880167,
          -3.2238037438656497,
          -2.644750389942026,
          -2.38603903353113,
          -2.6235278752244233,
          -2.6482967062543796,
          -2.1998203236175806,
          -2.5879863998787678,
          -2.310256215242517,
          -2.543705228757155,
          -3.215939415648611,
          -2.302733182226206,
          -2.355754049123772,
          -2.506668906925822,
          -2.468820073121338,
          -2.5623199061960147,
          -2.639534715384544,
          -2.6319893872743467,
          -2.5873984766893523,
          -2.4099324970021714,
          -2.6488623343499103,
          -2.5987367491005835,
          -2.636926878105795,
          -2.8662416521186698,
          -2.6252380498503722,
          -2.800684115448218,
          -2.980502043781992,
          -2.5900063139680936,
          -2.7701024260278957,
          -2.8493687050431036,
          -2.9974065465949074,
          -2.405614485097488,
          -2.2094892377836772,
          -2.7144514267577065,
          -2.5381482589989433,
          -2.8394621676428526,
          -2.543085749830388,
          -2.703359782335155
         ],
         "y": [
          0.31939724658510266,
          -0.1770012250647813,
          -0.1449494260855556,
          -0.31829897925191614,
          0.3267545129349206,
          0.7413304490629155,
          -0.08946138452856627,
          0.1633849596983302,
          -0.5783117541867021,
          -0.11377424587411576,
          0.6450688986485751,
          0.01472993916137612,
          -0.2351120002017162,
          -0.5113945870063812,
          1.1787646364375768,
          1.338062330400653,
          0.8106795141812613,
          0.3118491445933572,
          0.8728390389622156,
          0.5135603087492788,
          0.3913459356538976,
          0.43299606327903095,
          0.13346806953852963,
          0.09870885481410348,
          -0.0372818596773783,
          -0.14601688049526346,
          0.13095148943525298,
          0.3677188574342037,
          0.31203998023528917,
          -0.19696122492431023,
          -0.20431849127412727,
          0.4109242642295738,
          0.8133638202969633,
          1.0931457594493583,
          -0.12132234786586435,
          0.06936447158008614,
          0.5993700213794294,
          0.2686437377979784,
          -0.4879583444286104,
          0.22904383682701304,
          0.2635275337442538,
          -0.9409605736411893,
          -0.34192605747160476,
          0.18887142893026843,
          0.436663141639192,
          -0.2502082041852052,
          0.503771144461448,
          -0.22794556949382178,
          0.5794100215198899,
          0.10770608249941302
         ],
         "z": [
          -0.027914827589414336,
          -0.21046427237823565,
          0.017900256320891213,
          0.0315593736056803,
          0.09007924055120407,
          0.16867765820910224,
          0.25789215825561845,
          -0.021879317886717008,
          0.020759570264780883,
          -0.197632724988149,
          -0.0753180093791204,
          0.10215025995659001,
          -0.20684443044964368,
          0.06129967245709648,
          -0.15162752361780718,
          0.277776902703136,
          0.13818322788071988,
          0.026668315612593523,
          -0.12030552339472866,
          0.21366517222471482,
          -0.2394440432449522,
          0.2084572324167157,
          0.29239675074524424,
          0.03912325874288187,
          0.12502108270287762,
          -0.25342004234465676,
          0.09491057609939282,
          -0.07849420513792185,
          -0.14590889573002597,
          0.04077107906717946,
          -0.07722298907343648,
          -0.1455249720051295,
          0.22566914972012,
          0.15781081295822258,
          -0.14304958178614358,
          -0.16433230665302226,
          -0.2683503756939341,
          0.09369908247980228,
          0.07292704569269443,
          -0.08008230301732568,
          0.07724769316110568,
          -0.3492303773059632,
          0.1925092117127082,
          0.2638679455134158,
          0.2987427457551068,
          -0.0976781440456286,
          0.16670563660480486,
          0.08372684903359481,
          -0.017115024248513765,
          -0.08929400847882386
         ]
        },
        {
         "hovertemplate": "symbol=2<br>x=%{x}<br>y=%{y}<br>z=%{z}<br>color=%{marker.color}<extra></extra>",
         "legendgroup": "2",
         "marker": {
          "color": [
           2,
           2,
           2,
           2,
           2,
           2,
           2,
           2,
           2,
           2,
           2,
           2,
           2,
           2,
           2,
           2,
           2,
           2,
           2,
           2,
           2,
           2,
           2,
           2,
           2,
           2,
           2,
           2,
           2,
           2,
           2,
           2,
           2,
           2,
           2,
           2,
           2,
           2,
           2,
           2,
           2,
           2,
           2,
           2,
           2,
           2,
           2,
           2,
           2,
           2,
           2,
           2,
           2,
           2,
           2,
           2,
           2,
           2,
           2,
           2,
           2,
           2
          ],
          "coloraxis": "coloraxis",
          "symbol": "diamond"
         },
         "mode": "markers",
         "name": "2",
         "scene": "scene",
         "showlegend": true,
         "type": "scatter3d",
         "x": [
          1.2848256888583498,
          0.9324885323123148,
          0.1833177199583768,
          1.0881032577116625,
          0.6416690842580738,
          1.0950606626324515,
          -0.7491226698296571,
          1.0441318260534345,
          -0.008745404082892105,
          -0.5078408838353232,
          0.5116985574475941,
          0.2649765081120452,
          0.9849345104708916,
          -0.17392537168177025,
          0.9278607809442458,
          0.6602837616969361,
          0.23610499331767523,
          0.9447337280198101,
          0.04522697629870171,
          1.1162831773500568,
          0.35788841799730475,
          1.2981838753589214,
          0.9217289224470454,
          0.714853325911408,
          0.9001743731721658,
          1.3320244367220915,
          0.8132906498175385,
          -0.3055837780243055,
          -0.06812649206836134,
          -0.18962247237850566,
          0.13642871155801375,
          1.3800264359155232,
          0.5880064433398671,
          0.8068583125004167,
          1.2206908824443503,
          0.8150952357666018,
          0.24595767988669018,
          0.16641321714545754,
          0.46480028840378,
          0.8908151984694432,
          0.23054802355945667,
          -0.704531759244666,
          0.3569814947010461,
          0.3319344799450529,
          0.37621565106667454,
          0.6425760075543447,
          -0.906469864948833,
          0.2990008418781437,
          1.4152358767039028,
          0.521232243909776,
          1.3461635794584528,
          1.5859282238732155,
          1.3007917126376611,
          1.199001105465561,
          1.3887661316914668,
          1.258508160511486,
          1.291132059115023,
          1.444161242329511,
          1.1693263393415023,
          1.4152358767039033,
          1.5271666148145189,
          1.390188861947915
         ],
         "y": [
          0.6851604704673162,
          0.31833363826264033,
          -0.8279590118206358,
          0.07459067519772748,
          -0.4182468715686689,
          0.28346827006152747,
          -1.00489096118189,
          0.22836189978840196,
          -0.7230819050048358,
          -1.2659711905263928,
          -0.10398123549903196,
          -0.5500364636804679,
          -0.12481785412635481,
          -0.25485420870258335,
          0.4671794944415166,
          -0.35296966572384636,
          -0.33361076682491575,
          -0.5431455507797593,
          -0.5838343774718602,
          -0.08461685219478837,
          -0.06892503165600851,
          -0.327787308333917,
          -0.1827377936213691,
          0.1490559443697919,
          0.3285044738343271,
          0.2444408760163452,
          -0.16335030068760803,
          -0.36826218975458697,
          -0.7051721317994624,
          -0.6802867635281272,
          -0.3140324382492323,
          -0.4209542873138844,
          -0.4842874199812171,
          0.19418231471315345,
          0.4076195936110112,
          -0.3720370599095001,
          -0.2685243966220124,
          -0.6819267248636242,
          -0.6707115445117177,
          -0.03446444436826547,
          -0.404385848007322,
          -1.0122482275317106,
          -0.504910093337107,
          -0.21265468378116845,
          -0.29321892925141557,
          0.01773819011242109,
          -0.7560933665990104,
          -0.3488978064503329,
          -0.5749163475464872,
          -1.192758727000643,
          -0.7768183473443382,
          -0.5396407140267225,
          -0.761149636435058,
          -0.6060915277579302,
          -0.20439932735214833,
          -0.1797047947227487,
          -0.11666865117400872,
          -0.14341341045757894,
          -0.1649902620231047,
          -0.5749163475464872,
          -0.3753169825804853,
          -0.2826609379905496
         ],
         "z": [
          -0.4065680254676932,
          -0.018014186646239654,
          -0.1795913918753556,
          -0.30775789623478744,
          0.04107609082395693,
          0.16981023986057472,
          0.012302919237592315,
          -0.41533608475939576,
          0.2811414311764097,
          -0.26981718276885325,
          0.13054775024048346,
          -0.6941468301444205,
          -0.06211440832225882,
          0.0904576907257015,
          -0.31462097583216975,
          0.32802752837859056,
          -0.2711618372510644,
          -0.4995190464851157,
          -0.2350021049720579,
          0.459620991359107,
          -0.22985388760895054,
          -0.34785435225730243,
          -0.23107177773627657,
          -0.3218009372444774,
          -0.3162090737115741,
          -0.5217027796644086,
          0.03542450484615264,
          -0.3184915806230382,
          -0.24421381043355606,
          -0.30642056121766814,
          -0.1772427660112508,
          0.01616712752075268,
          0.44443349863980897,
          0.38896306309821876,
          -0.23716700988388315,
          -0.6147208425918158,
          0.18836681164618835,
          -0.06000922585533552,
          -0.02430685571895615,
          -0.00994693289436057,
          -0.2294102414391548,
          -0.10569114890302829,
          0.01661717019825964,
          0.08320429089565555,
          0.07799635108768421,
          -0.20539496698324136,
          -0.012599647557885448,
          0.010581660495573375,
          0.2963225273879642,
          0.5456592956468138,
          0.2819028821184697,
          0.6290293264079984,
          -0.34499503831341405,
          0.5118555086969951,
          -0.06452275663126977,
          0.045847703927240614,
          0.2312564626599725,
          -0.1532338880630927,
          0.28183584020848795,
          0.29632252738796205,
          -0.12189817186717736,
          0.3629096480853684
         ]
        },
        {
         "hovertemplate": "symbol=0<br>x=%{x}<br>y=%{y}<br>z=%{z}<br>color=%{marker.color}<extra></extra>",
         "legendgroup": "0",
         "marker": {
          "color": [
           0,
           0,
           0,
           0,
           0,
           0,
           0,
           0,
           0,
           0,
           0,
           0,
           0,
           0,
           0,
           0,
           0,
           0,
           0,
           0,
           0,
           0,
           0,
           0,
           0,
           0,
           0,
           0,
           0,
           0,
           0,
           0,
           0,
           0,
           0,
           0,
           0,
           0
          ],
          "coloraxis": "coloraxis",
          "symbol": "square"
         },
         "mode": "markers",
         "name": "0",
         "scene": "scene",
         "showlegend": true,
         "type": "scatter3d",
         "x": [
          1.4643023219914018,
          1.5578021550660714,
          2.531192727803634,
          2.6166760159956866,
          1.9715310530434371,
          2.3500059200446466,
          3.397038736053255,
          2.932587068993688,
          2.3212288165733774,
          2.9167509667860743,
          1.6617741536365371,
          1.8034019529650962,
          2.165591796080148,
          1.9044563747934287,
          1.949689059399074,
          3.487055364290279,
          3.795645422072892,
          2.4278179130660504,
          3.499920038924538,
          2.2754305038722036,
          2.614090473810832,
          2.123608722773897,
          2.3880030160034664,
          2.8416727781038738,
          3.2306736614320934,
          2.1594376424890513,
          1.7812948100451114,
          3.0764999316871893,
          2.1442433143020825,
          1.9050981488140775,
          2.1076111432572433,
          2.314154705235601,
          1.9222678009026024,
          2.563013375077478,
          2.418746182732826,
          1.9441097945469696,
          1.7643457170444299,
          1.900941614218425
         ],
         "y": [
          0.5042628153091983,
          0.2674954473102575,
          -0.009849109498798712,
          0.34390315134173366,
          -0.17972790435224378,
          -0.04026094714252506,
          0.5508366730280564,
          0.35550000297749756,
          -0.24383150231069026,
          0.782791948815281,
          0.24222840775507232,
          -0.21563761733355072,
          0.21627558507402841,
          0.11925069209197693,
          0.04194325966321657,
          1.1757393297134298,
          0.25732297342048627,
          0.37819601261705343,
          0.46067409891189603,
          0.3349906058216766,
          0.5609013551230794,
          -0.2097294766773019,
          0.46463980470873567,
          0.37526916719510794,
          1.3741650867930495,
          -0.21727757866904915,
          -0.4999016810781354,
          0.6880856775711791,
          0.1400642010897916,
          0.04930052601303172,
          0.37228787196080004,
          0.18365127916902013,
          0.40920346681606584,
          0.2778626029291969,
          0.3047981978546927,
          0.18753230280060842,
          0.07885885451847796,
          0.11662795851202565
         ],
         "z": [
          -0.33832576498090006,
          -0.16492098374357828,
          0.7601654272459041,
          -0.11078788321911488,
          0.10842466246342429,
          0.28538956318445385,
          -0.34843755579747204,
          -0.42023993576796587,
          -0.34830439493484633,
          0.4233354176825609,
          0.2424401897257852,
          -0.037648168231466515,
          0.03332664184433751,
          0.479639819626594,
          0.04418616763013037,
          0.13389487393609242,
          -0.5137677638177927,
          0.21911932430194883,
          -0.5731822425680031,
          0.286150091169142,
          -0.2055345243536302,
          0.15418002392883182,
          -0.44953019194185534,
          -0.49889807587075813,
          -0.11454820547542201,
          0.20876316713082985,
          -0.1728751891134256,
          -0.3355922924345402,
          0.7348789367255067,
          0.16218023577073773,
          0.0272911321416308,
          0.322693747173048,
          0.11358659579935693,
          0.2925695245967448,
          0.5044826639771735,
          0.177825090632656,
          0.13048163128784177,
          0.7232515634899139
         ]
        }
       ],
       "layout": {
        "coloraxis": {
         "colorbar": {
          "title": {
           "text": "color"
          }
         },
         "colorscale": [
          [
           0,
           "#0d0887"
          ],
          [
           0.1111111111111111,
           "#46039f"
          ],
          [
           0.2222222222222222,
           "#7201a8"
          ],
          [
           0.3333333333333333,
           "#9c179e"
          ],
          [
           0.4444444444444444,
           "#bd3786"
          ],
          [
           0.5555555555555556,
           "#d8576b"
          ],
          [
           0.6666666666666666,
           "#ed7953"
          ],
          [
           0.7777777777777778,
           "#fb9f3a"
          ],
          [
           0.8888888888888888,
           "#fdca26"
          ],
          [
           1,
           "#f0f921"
          ]
         ]
        },
        "legend": {
         "title": {
          "text": "symbol"
         },
         "tracegroupgap": 0
        },
        "margin": {
         "t": 60
        },
        "scene": {
         "domain": {
          "x": [
           0,
           1
          ],
          "y": [
           0,
           1
          ]
         },
         "xaxis": {
          "title": {
           "text": "x"
          }
         },
         "yaxis": {
          "title": {
           "text": "y"
          }
         },
         "zaxis": {
          "title": {
           "text": "z"
          }
         }
        },
        "template": {
         "data": {
          "bar": [
           {
            "error_x": {
             "color": "#2a3f5f"
            },
            "error_y": {
             "color": "#2a3f5f"
            },
            "marker": {
             "line": {
              "color": "#E5ECF6",
              "width": 0.5
             },
             "pattern": {
              "fillmode": "overlay",
              "size": 10,
              "solidity": 0.2
             }
            },
            "type": "bar"
           }
          ],
          "barpolar": [
           {
            "marker": {
             "line": {
              "color": "#E5ECF6",
              "width": 0.5
             },
             "pattern": {
              "fillmode": "overlay",
              "size": 10,
              "solidity": 0.2
             }
            },
            "type": "barpolar"
           }
          ],
          "carpet": [
           {
            "aaxis": {
             "endlinecolor": "#2a3f5f",
             "gridcolor": "white",
             "linecolor": "white",
             "minorgridcolor": "white",
             "startlinecolor": "#2a3f5f"
            },
            "baxis": {
             "endlinecolor": "#2a3f5f",
             "gridcolor": "white",
             "linecolor": "white",
             "minorgridcolor": "white",
             "startlinecolor": "#2a3f5f"
            },
            "type": "carpet"
           }
          ],
          "choropleth": [
           {
            "colorbar": {
             "outlinewidth": 0,
             "ticks": ""
            },
            "type": "choropleth"
           }
          ],
          "contour": [
           {
            "colorbar": {
             "outlinewidth": 0,
             "ticks": ""
            },
            "colorscale": [
             [
              0,
              "#0d0887"
             ],
             [
              0.1111111111111111,
              "#46039f"
             ],
             [
              0.2222222222222222,
              "#7201a8"
             ],
             [
              0.3333333333333333,
              "#9c179e"
             ],
             [
              0.4444444444444444,
              "#bd3786"
             ],
             [
              0.5555555555555556,
              "#d8576b"
             ],
             [
              0.6666666666666666,
              "#ed7953"
             ],
             [
              0.7777777777777778,
              "#fb9f3a"
             ],
             [
              0.8888888888888888,
              "#fdca26"
             ],
             [
              1,
              "#f0f921"
             ]
            ],
            "type": "contour"
           }
          ],
          "contourcarpet": [
           {
            "colorbar": {
             "outlinewidth": 0,
             "ticks": ""
            },
            "type": "contourcarpet"
           }
          ],
          "heatmap": [
           {
            "colorbar": {
             "outlinewidth": 0,
             "ticks": ""
            },
            "colorscale": [
             [
              0,
              "#0d0887"
             ],
             [
              0.1111111111111111,
              "#46039f"
             ],
             [
              0.2222222222222222,
              "#7201a8"
             ],
             [
              0.3333333333333333,
              "#9c179e"
             ],
             [
              0.4444444444444444,
              "#bd3786"
             ],
             [
              0.5555555555555556,
              "#d8576b"
             ],
             [
              0.6666666666666666,
              "#ed7953"
             ],
             [
              0.7777777777777778,
              "#fb9f3a"
             ],
             [
              0.8888888888888888,
              "#fdca26"
             ],
             [
              1,
              "#f0f921"
             ]
            ],
            "type": "heatmap"
           }
          ],
          "heatmapgl": [
           {
            "colorbar": {
             "outlinewidth": 0,
             "ticks": ""
            },
            "colorscale": [
             [
              0,
              "#0d0887"
             ],
             [
              0.1111111111111111,
              "#46039f"
             ],
             [
              0.2222222222222222,
              "#7201a8"
             ],
             [
              0.3333333333333333,
              "#9c179e"
             ],
             [
              0.4444444444444444,
              "#bd3786"
             ],
             [
              0.5555555555555556,
              "#d8576b"
             ],
             [
              0.6666666666666666,
              "#ed7953"
             ],
             [
              0.7777777777777778,
              "#fb9f3a"
             ],
             [
              0.8888888888888888,
              "#fdca26"
             ],
             [
              1,
              "#f0f921"
             ]
            ],
            "type": "heatmapgl"
           }
          ],
          "histogram": [
           {
            "marker": {
             "pattern": {
              "fillmode": "overlay",
              "size": 10,
              "solidity": 0.2
             }
            },
            "type": "histogram"
           }
          ],
          "histogram2d": [
           {
            "colorbar": {
             "outlinewidth": 0,
             "ticks": ""
            },
            "colorscale": [
             [
              0,
              "#0d0887"
             ],
             [
              0.1111111111111111,
              "#46039f"
             ],
             [
              0.2222222222222222,
              "#7201a8"
             ],
             [
              0.3333333333333333,
              "#9c179e"
             ],
             [
              0.4444444444444444,
              "#bd3786"
             ],
             [
              0.5555555555555556,
              "#d8576b"
             ],
             [
              0.6666666666666666,
              "#ed7953"
             ],
             [
              0.7777777777777778,
              "#fb9f3a"
             ],
             [
              0.8888888888888888,
              "#fdca26"
             ],
             [
              1,
              "#f0f921"
             ]
            ],
            "type": "histogram2d"
           }
          ],
          "histogram2dcontour": [
           {
            "colorbar": {
             "outlinewidth": 0,
             "ticks": ""
            },
            "colorscale": [
             [
              0,
              "#0d0887"
             ],
             [
              0.1111111111111111,
              "#46039f"
             ],
             [
              0.2222222222222222,
              "#7201a8"
             ],
             [
              0.3333333333333333,
              "#9c179e"
             ],
             [
              0.4444444444444444,
              "#bd3786"
             ],
             [
              0.5555555555555556,
              "#d8576b"
             ],
             [
              0.6666666666666666,
              "#ed7953"
             ],
             [
              0.7777777777777778,
              "#fb9f3a"
             ],
             [
              0.8888888888888888,
              "#fdca26"
             ],
             [
              1,
              "#f0f921"
             ]
            ],
            "type": "histogram2dcontour"
           }
          ],
          "mesh3d": [
           {
            "colorbar": {
             "outlinewidth": 0,
             "ticks": ""
            },
            "type": "mesh3d"
           }
          ],
          "parcoords": [
           {
            "line": {
             "colorbar": {
              "outlinewidth": 0,
              "ticks": ""
             }
            },
            "type": "parcoords"
           }
          ],
          "pie": [
           {
            "automargin": true,
            "type": "pie"
           }
          ],
          "scatter": [
           {
            "fillpattern": {
             "fillmode": "overlay",
             "size": 10,
             "solidity": 0.2
            },
            "type": "scatter"
           }
          ],
          "scatter3d": [
           {
            "line": {
             "colorbar": {
              "outlinewidth": 0,
              "ticks": ""
             }
            },
            "marker": {
             "colorbar": {
              "outlinewidth": 0,
              "ticks": ""
             }
            },
            "type": "scatter3d"
           }
          ],
          "scattercarpet": [
           {
            "marker": {
             "colorbar": {
              "outlinewidth": 0,
              "ticks": ""
             }
            },
            "type": "scattercarpet"
           }
          ],
          "scattergeo": [
           {
            "marker": {
             "colorbar": {
              "outlinewidth": 0,
              "ticks": ""
             }
            },
            "type": "scattergeo"
           }
          ],
          "scattergl": [
           {
            "marker": {
             "colorbar": {
              "outlinewidth": 0,
              "ticks": ""
             }
            },
            "type": "scattergl"
           }
          ],
          "scattermapbox": [
           {
            "marker": {
             "colorbar": {
              "outlinewidth": 0,
              "ticks": ""
             }
            },
            "type": "scattermapbox"
           }
          ],
          "scatterpolar": [
           {
            "marker": {
             "colorbar": {
              "outlinewidth": 0,
              "ticks": ""
             }
            },
            "type": "scatterpolar"
           }
          ],
          "scatterpolargl": [
           {
            "marker": {
             "colorbar": {
              "outlinewidth": 0,
              "ticks": ""
             }
            },
            "type": "scatterpolargl"
           }
          ],
          "scatterternary": [
           {
            "marker": {
             "colorbar": {
              "outlinewidth": 0,
              "ticks": ""
             }
            },
            "type": "scatterternary"
           }
          ],
          "surface": [
           {
            "colorbar": {
             "outlinewidth": 0,
             "ticks": ""
            },
            "colorscale": [
             [
              0,
              "#0d0887"
             ],
             [
              0.1111111111111111,
              "#46039f"
             ],
             [
              0.2222222222222222,
              "#7201a8"
             ],
             [
              0.3333333333333333,
              "#9c179e"
             ],
             [
              0.4444444444444444,
              "#bd3786"
             ],
             [
              0.5555555555555556,
              "#d8576b"
             ],
             [
              0.6666666666666666,
              "#ed7953"
             ],
             [
              0.7777777777777778,
              "#fb9f3a"
             ],
             [
              0.8888888888888888,
              "#fdca26"
             ],
             [
              1,
              "#f0f921"
             ]
            ],
            "type": "surface"
           }
          ],
          "table": [
           {
            "cells": {
             "fill": {
              "color": "#EBF0F8"
             },
             "line": {
              "color": "white"
             }
            },
            "header": {
             "fill": {
              "color": "#C8D4E3"
             },
             "line": {
              "color": "white"
             }
            },
            "type": "table"
           }
          ]
         },
         "layout": {
          "annotationdefaults": {
           "arrowcolor": "#2a3f5f",
           "arrowhead": 0,
           "arrowwidth": 1
          },
          "autotypenumbers": "strict",
          "coloraxis": {
           "colorbar": {
            "outlinewidth": 0,
            "ticks": ""
           }
          },
          "colorscale": {
           "diverging": [
            [
             0,
             "#8e0152"
            ],
            [
             0.1,
             "#c51b7d"
            ],
            [
             0.2,
             "#de77ae"
            ],
            [
             0.3,
             "#f1b6da"
            ],
            [
             0.4,
             "#fde0ef"
            ],
            [
             0.5,
             "#f7f7f7"
            ],
            [
             0.6,
             "#e6f5d0"
            ],
            [
             0.7,
             "#b8e186"
            ],
            [
             0.8,
             "#7fbc41"
            ],
            [
             0.9,
             "#4d9221"
            ],
            [
             1,
             "#276419"
            ]
           ],
           "sequential": [
            [
             0,
             "#0d0887"
            ],
            [
             0.1111111111111111,
             "#46039f"
            ],
            [
             0.2222222222222222,
             "#7201a8"
            ],
            [
             0.3333333333333333,
             "#9c179e"
            ],
            [
             0.4444444444444444,
             "#bd3786"
            ],
            [
             0.5555555555555556,
             "#d8576b"
            ],
            [
             0.6666666666666666,
             "#ed7953"
            ],
            [
             0.7777777777777778,
             "#fb9f3a"
            ],
            [
             0.8888888888888888,
             "#fdca26"
            ],
            [
             1,
             "#f0f921"
            ]
           ],
           "sequentialminus": [
            [
             0,
             "#0d0887"
            ],
            [
             0.1111111111111111,
             "#46039f"
            ],
            [
             0.2222222222222222,
             "#7201a8"
            ],
            [
             0.3333333333333333,
             "#9c179e"
            ],
            [
             0.4444444444444444,
             "#bd3786"
            ],
            [
             0.5555555555555556,
             "#d8576b"
            ],
            [
             0.6666666666666666,
             "#ed7953"
            ],
            [
             0.7777777777777778,
             "#fb9f3a"
            ],
            [
             0.8888888888888888,
             "#fdca26"
            ],
            [
             1,
             "#f0f921"
            ]
           ]
          },
          "colorway": [
           "#636efa",
           "#EF553B",
           "#00cc96",
           "#ab63fa",
           "#FFA15A",
           "#19d3f3",
           "#FF6692",
           "#B6E880",
           "#FF97FF",
           "#FECB52"
          ],
          "font": {
           "color": "#2a3f5f"
          },
          "geo": {
           "bgcolor": "white",
           "lakecolor": "white",
           "landcolor": "#E5ECF6",
           "showlakes": true,
           "showland": true,
           "subunitcolor": "white"
          },
          "hoverlabel": {
           "align": "left"
          },
          "hovermode": "closest",
          "mapbox": {
           "style": "light"
          },
          "paper_bgcolor": "white",
          "plot_bgcolor": "#E5ECF6",
          "polar": {
           "angularaxis": {
            "gridcolor": "white",
            "linecolor": "white",
            "ticks": ""
           },
           "bgcolor": "#E5ECF6",
           "radialaxis": {
            "gridcolor": "white",
            "linecolor": "white",
            "ticks": ""
           }
          },
          "scene": {
           "xaxis": {
            "backgroundcolor": "#E5ECF6",
            "gridcolor": "white",
            "gridwidth": 2,
            "linecolor": "white",
            "showbackground": true,
            "ticks": "",
            "zerolinecolor": "white"
           },
           "yaxis": {
            "backgroundcolor": "#E5ECF6",
            "gridcolor": "white",
            "gridwidth": 2,
            "linecolor": "white",
            "showbackground": true,
            "ticks": "",
            "zerolinecolor": "white"
           },
           "zaxis": {
            "backgroundcolor": "#E5ECF6",
            "gridcolor": "white",
            "gridwidth": 2,
            "linecolor": "white",
            "showbackground": true,
            "ticks": "",
            "zerolinecolor": "white"
           }
          },
          "shapedefaults": {
           "line": {
            "color": "#2a3f5f"
           }
          },
          "ternary": {
           "aaxis": {
            "gridcolor": "white",
            "linecolor": "white",
            "ticks": ""
           },
           "baxis": {
            "gridcolor": "white",
            "linecolor": "white",
            "ticks": ""
           },
           "bgcolor": "#E5ECF6",
           "caxis": {
            "gridcolor": "white",
            "linecolor": "white",
            "ticks": ""
           }
          },
          "title": {
           "x": 0.05
          },
          "xaxis": {
           "automargin": true,
           "gridcolor": "white",
           "linecolor": "white",
           "ticks": "",
           "title": {
            "standoff": 15
           },
           "zerolinecolor": "white",
           "zerolinewidth": 2
          },
          "yaxis": {
           "automargin": true,
           "gridcolor": "white",
           "linecolor": "white",
           "ticks": "",
           "title": {
            "standoff": 15
           },
           "zerolinecolor": "white",
           "zerolinewidth": 2
          }
         }
        }
       }
      }
     },
     "metadata": {},
     "output_type": "display_data"
    }
   ],
   "source": [
    "\n",
    "\n",
    "model = KMeans(n_clusters=3)\n",
    "model.fit(features)\n",
    "groups = model.predict(features)\n",
    "# print(groups)\n",
    "px.scatter_3d(x = features[:,0], y=features[:,1], z = features[:,2], color=groups, symbol= groups)"
   ]
  },
  {
   "cell_type": "code",
   "execution_count": 8,
   "metadata": {},
   "outputs": [],
   "source": [
    "from sklearn.pipeline import make_pipeline"
   ]
  },
  {
   "cell_type": "code",
   "execution_count": 9,
   "metadata": {},
   "outputs": [
    {
     "data": {
      "text/html": [
       "<div>\n",
       "<style scoped>\n",
       "    .dataframe tbody tr th:only-of-type {\n",
       "        vertical-align: middle;\n",
       "    }\n",
       "\n",
       "    .dataframe tbody tr th {\n",
       "        vertical-align: top;\n",
       "    }\n",
       "\n",
       "    .dataframe thead th {\n",
       "        text-align: right;\n",
       "    }\n",
       "</style>\n",
       "<table border=\"1\" class=\"dataframe\">\n",
       "  <thead>\n",
       "    <tr style=\"text-align: right;\">\n",
       "      <th></th>\n",
       "      <th>sepal_length</th>\n",
       "      <th>sepal_width</th>\n",
       "      <th>petal_length</th>\n",
       "      <th>petal_width</th>\n",
       "    </tr>\n",
       "  </thead>\n",
       "  <tbody>\n",
       "    <tr>\n",
       "      <th>0</th>\n",
       "      <td>5.1</td>\n",
       "      <td>3.5</td>\n",
       "      <td>1.4</td>\n",
       "      <td>0.2</td>\n",
       "    </tr>\n",
       "    <tr>\n",
       "      <th>1</th>\n",
       "      <td>4.9</td>\n",
       "      <td>3.0</td>\n",
       "      <td>1.4</td>\n",
       "      <td>0.2</td>\n",
       "    </tr>\n",
       "    <tr>\n",
       "      <th>2</th>\n",
       "      <td>4.7</td>\n",
       "      <td>3.2</td>\n",
       "      <td>1.3</td>\n",
       "      <td>0.2</td>\n",
       "    </tr>\n",
       "    <tr>\n",
       "      <th>3</th>\n",
       "      <td>4.6</td>\n",
       "      <td>3.1</td>\n",
       "      <td>1.5</td>\n",
       "      <td>0.2</td>\n",
       "    </tr>\n",
       "    <tr>\n",
       "      <th>4</th>\n",
       "      <td>5.0</td>\n",
       "      <td>3.6</td>\n",
       "      <td>1.4</td>\n",
       "      <td>0.2</td>\n",
       "    </tr>\n",
       "    <tr>\n",
       "      <th>...</th>\n",
       "      <td>...</td>\n",
       "      <td>...</td>\n",
       "      <td>...</td>\n",
       "      <td>...</td>\n",
       "    </tr>\n",
       "    <tr>\n",
       "      <th>145</th>\n",
       "      <td>6.7</td>\n",
       "      <td>3.0</td>\n",
       "      <td>5.2</td>\n",
       "      <td>2.3</td>\n",
       "    </tr>\n",
       "    <tr>\n",
       "      <th>146</th>\n",
       "      <td>6.3</td>\n",
       "      <td>2.5</td>\n",
       "      <td>5.0</td>\n",
       "      <td>1.9</td>\n",
       "    </tr>\n",
       "    <tr>\n",
       "      <th>147</th>\n",
       "      <td>6.5</td>\n",
       "      <td>3.0</td>\n",
       "      <td>5.2</td>\n",
       "      <td>2.0</td>\n",
       "    </tr>\n",
       "    <tr>\n",
       "      <th>148</th>\n",
       "      <td>6.2</td>\n",
       "      <td>3.4</td>\n",
       "      <td>5.4</td>\n",
       "      <td>2.3</td>\n",
       "    </tr>\n",
       "    <tr>\n",
       "      <th>149</th>\n",
       "      <td>5.9</td>\n",
       "      <td>3.0</td>\n",
       "      <td>5.1</td>\n",
       "      <td>1.8</td>\n",
       "    </tr>\n",
       "  </tbody>\n",
       "</table>\n",
       "<p>150 rows × 4 columns</p>\n",
       "</div>"
      ],
      "text/plain": [
       "     sepal_length  sepal_width  petal_length  petal_width\n",
       "0             5.1          3.5           1.4          0.2\n",
       "1             4.9          3.0           1.4          0.2\n",
       "2             4.7          3.2           1.3          0.2\n",
       "3             4.6          3.1           1.5          0.2\n",
       "4             5.0          3.6           1.4          0.2\n",
       "..            ...          ...           ...          ...\n",
       "145           6.7          3.0           5.2          2.3\n",
       "146           6.3          2.5           5.0          1.9\n",
       "147           6.5          3.0           5.2          2.0\n",
       "148           6.2          3.4           5.4          2.3\n",
       "149           5.9          3.0           5.1          1.8\n",
       "\n",
       "[150 rows x 4 columns]"
      ]
     },
     "execution_count": 9,
     "metadata": {},
     "output_type": "execute_result"
    }
   ],
   "source": [
    "X"
   ]
  },
  {
   "cell_type": "code",
   "execution_count": 10,
   "metadata": {},
   "outputs": [],
   "source": [
    "model = make_pipeline(KernelPCA(n_components=2),KMeans(n_clusters=3))"
   ]
  },
  {
   "cell_type": "code",
   "execution_count": 11,
   "metadata": {},
   "outputs": [
    {
     "data": {
      "text/html": [
       "<style>#sk-container-id-1 {color: black;background-color: white;}#sk-container-id-1 pre{padding: 0;}#sk-container-id-1 div.sk-toggleable {background-color: white;}#sk-container-id-1 label.sk-toggleable__label {cursor: pointer;display: block;width: 100%;margin-bottom: 0;padding: 0.3em;box-sizing: border-box;text-align: center;}#sk-container-id-1 label.sk-toggleable__label-arrow:before {content: \"▸\";float: left;margin-right: 0.25em;color: #696969;}#sk-container-id-1 label.sk-toggleable__label-arrow:hover:before {color: black;}#sk-container-id-1 div.sk-estimator:hover label.sk-toggleable__label-arrow:before {color: black;}#sk-container-id-1 div.sk-toggleable__content {max-height: 0;max-width: 0;overflow: hidden;text-align: left;background-color: #f0f8ff;}#sk-container-id-1 div.sk-toggleable__content pre {margin: 0.2em;color: black;border-radius: 0.25em;background-color: #f0f8ff;}#sk-container-id-1 input.sk-toggleable__control:checked~div.sk-toggleable__content {max-height: 200px;max-width: 100%;overflow: auto;}#sk-container-id-1 input.sk-toggleable__control:checked~label.sk-toggleable__label-arrow:before {content: \"▾\";}#sk-container-id-1 div.sk-estimator input.sk-toggleable__control:checked~label.sk-toggleable__label {background-color: #d4ebff;}#sk-container-id-1 div.sk-label input.sk-toggleable__control:checked~label.sk-toggleable__label {background-color: #d4ebff;}#sk-container-id-1 input.sk-hidden--visually {border: 0;clip: rect(1px 1px 1px 1px);clip: rect(1px, 1px, 1px, 1px);height: 1px;margin: -1px;overflow: hidden;padding: 0;position: absolute;width: 1px;}#sk-container-id-1 div.sk-estimator {font-family: monospace;background-color: #f0f8ff;border: 1px dotted black;border-radius: 0.25em;box-sizing: border-box;margin-bottom: 0.5em;}#sk-container-id-1 div.sk-estimator:hover {background-color: #d4ebff;}#sk-container-id-1 div.sk-parallel-item::after {content: \"\";width: 100%;border-bottom: 1px solid gray;flex-grow: 1;}#sk-container-id-1 div.sk-label:hover label.sk-toggleable__label {background-color: #d4ebff;}#sk-container-id-1 div.sk-serial::before {content: \"\";position: absolute;border-left: 1px solid gray;box-sizing: border-box;top: 0;bottom: 0;left: 50%;z-index: 0;}#sk-container-id-1 div.sk-serial {display: flex;flex-direction: column;align-items: center;background-color: white;padding-right: 0.2em;padding-left: 0.2em;position: relative;}#sk-container-id-1 div.sk-item {position: relative;z-index: 1;}#sk-container-id-1 div.sk-parallel {display: flex;align-items: stretch;justify-content: center;background-color: white;position: relative;}#sk-container-id-1 div.sk-item::before, #sk-container-id-1 div.sk-parallel-item::before {content: \"\";position: absolute;border-left: 1px solid gray;box-sizing: border-box;top: 0;bottom: 0;left: 50%;z-index: -1;}#sk-container-id-1 div.sk-parallel-item {display: flex;flex-direction: column;z-index: 1;position: relative;background-color: white;}#sk-container-id-1 div.sk-parallel-item:first-child::after {align-self: flex-end;width: 50%;}#sk-container-id-1 div.sk-parallel-item:last-child::after {align-self: flex-start;width: 50%;}#sk-container-id-1 div.sk-parallel-item:only-child::after {width: 0;}#sk-container-id-1 div.sk-dashed-wrapped {border: 1px dashed gray;margin: 0 0.4em 0.5em 0.4em;box-sizing: border-box;padding-bottom: 0.4em;background-color: white;}#sk-container-id-1 div.sk-label label {font-family: monospace;font-weight: bold;display: inline-block;line-height: 1.2em;}#sk-container-id-1 div.sk-label-container {text-align: center;}#sk-container-id-1 div.sk-container {/* jupyter's `normalize.less` sets `[hidden] { display: none; }` but bootstrap.min.css set `[hidden] { display: none !important; }` so we also need the `!important` here to be able to override the default hidden behavior on the sphinx rendered scikit-learn.org. See: https://github.com/scikit-learn/scikit-learn/issues/21755 */display: inline-block !important;position: relative;}#sk-container-id-1 div.sk-text-repr-fallback {display: none;}</style><div id=\"sk-container-id-1\" class=\"sk-top-container\"><div class=\"sk-text-repr-fallback\"><pre>Pipeline(steps=[(&#x27;kernelpca&#x27;, KernelPCA(n_components=2)),\n",
       "                (&#x27;kmeans&#x27;, KMeans(n_clusters=3))])</pre><b>In a Jupyter environment, please rerun this cell to show the HTML representation or trust the notebook. <br />On GitHub, the HTML representation is unable to render, please try loading this page with nbviewer.org.</b></div><div class=\"sk-container\" hidden><div class=\"sk-item sk-dashed-wrapped\"><div class=\"sk-label-container\"><div class=\"sk-label sk-toggleable\"><input class=\"sk-toggleable__control sk-hidden--visually\" id=\"sk-estimator-id-1\" type=\"checkbox\" ><label for=\"sk-estimator-id-1\" class=\"sk-toggleable__label sk-toggleable__label-arrow\">Pipeline</label><div class=\"sk-toggleable__content\"><pre>Pipeline(steps=[(&#x27;kernelpca&#x27;, KernelPCA(n_components=2)),\n",
       "                (&#x27;kmeans&#x27;, KMeans(n_clusters=3))])</pre></div></div></div><div class=\"sk-serial\"><div class=\"sk-item\"><div class=\"sk-estimator sk-toggleable\"><input class=\"sk-toggleable__control sk-hidden--visually\" id=\"sk-estimator-id-2\" type=\"checkbox\" ><label for=\"sk-estimator-id-2\" class=\"sk-toggleable__label sk-toggleable__label-arrow\">KernelPCA</label><div class=\"sk-toggleable__content\"><pre>KernelPCA(n_components=2)</pre></div></div></div><div class=\"sk-item\"><div class=\"sk-estimator sk-toggleable\"><input class=\"sk-toggleable__control sk-hidden--visually\" id=\"sk-estimator-id-3\" type=\"checkbox\" ><label for=\"sk-estimator-id-3\" class=\"sk-toggleable__label sk-toggleable__label-arrow\">KMeans</label><div class=\"sk-toggleable__content\"><pre>KMeans(n_clusters=3)</pre></div></div></div></div></div></div></div>"
      ],
      "text/plain": [
       "Pipeline(steps=[('kernelpca', KernelPCA(n_components=2)),\n",
       "                ('kmeans', KMeans(n_clusters=3))])"
      ]
     },
     "execution_count": 11,
     "metadata": {},
     "output_type": "execute_result"
    }
   ],
   "source": [
    "model.fit(X)"
   ]
  },
  {
   "cell_type": "code",
   "execution_count": 12,
   "metadata": {},
   "outputs": [
    {
     "data": {
      "text/plain": [
       "array([1, 1, 1, 1, 1, 1, 1, 1, 1, 1, 1, 1, 1, 1, 1, 1, 1, 1, 1, 1, 1, 1,\n",
       "       1, 1, 1, 1, 1, 1, 1, 1, 1, 1, 1, 1, 1, 1, 1, 1, 1, 1, 1, 1, 1, 1,\n",
       "       1, 1, 1, 1, 1, 1, 0, 2, 0, 2, 2, 2, 2, 2, 2, 2, 2, 2, 2, 2, 2, 2,\n",
       "       2, 2, 2, 2, 2, 2, 2, 2, 2, 2, 2, 0, 2, 2, 2, 2, 2, 2, 2, 2, 2, 2,\n",
       "       2, 2, 2, 2, 2, 2, 2, 2, 2, 2, 2, 2, 0, 2, 0, 0, 0, 0, 2, 0, 0, 0,\n",
       "       0, 0, 0, 2, 2, 0, 0, 0, 0, 2, 0, 2, 0, 2, 0, 0, 2, 2, 0, 0, 0, 0,\n",
       "       0, 2, 0, 0, 0, 0, 2, 0, 0, 0, 2, 0, 0, 0, 2, 0, 0, 2])"
      ]
     },
     "execution_count": 12,
     "metadata": {},
     "output_type": "execute_result"
    }
   ],
   "source": [
    "model.predict(X)"
   ]
  },
  {
   "cell_type": "code",
   "execution_count": null,
   "metadata": {},
   "outputs": [],
   "source": []
  }
 ],
 "metadata": {
  "kernelspec": {
   "display_name": "Python 3.10.4 ('ml')",
   "language": "python",
   "name": "python3"
  },
  "language_info": {
   "codemirror_mode": {
    "name": "ipython",
    "version": 3
   },
   "file_extension": ".py",
   "mimetype": "text/x-python",
   "name": "python",
   "nbconvert_exporter": "python",
   "pygments_lexer": "ipython3",
   "version": "3.10.4"
  },
  "orig_nbformat": 4,
  "vscode": {
   "interpreter": {
    "hash": "1bc68d0fdee4ec240fb9af0bd7b031830545cd4d116c5e2fd495ecaa975e51db"
   }
  }
 },
 "nbformat": 4,
 "nbformat_minor": 2
}
